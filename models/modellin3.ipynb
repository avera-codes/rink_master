{
 "cells": [
  {
   "cell_type": "code",
   "execution_count": 10,
   "metadata": {},
   "outputs": [],
   "source": [
    "import pandas as pd\n",
    "import numpy as np\n",
    "\n",
    "\n",
    "from sklearn.model_selection import train_test_split\n",
    "from sklearn.model_selection import cross_val_score\n",
    "from sklearn.pipeline import Pipeline\n",
    "from sklearn.metrics import mean_squared_error, make_scorer\n",
    "from sklearn.model_selection import GridSearchCV\n",
    "from sklearn.linear_model import LogisticRegression\n",
    "from sklearn.preprocessing import OneHotEncoder"
   ]
  },
  {
   "cell_type": "code",
   "execution_count": 11,
   "metadata": {},
   "outputs": [
    {
     "data": {
      "text/html": [
       "<div>\n",
       "<style scoped>\n",
       "    .dataframe tbody tr th:only-of-type {\n",
       "        vertical-align: middle;\n",
       "    }\n",
       "\n",
       "    .dataframe tbody tr th {\n",
       "        vertical-align: top;\n",
       "    }\n",
       "\n",
       "    .dataframe thead th {\n",
       "        text-align: right;\n",
       "    }\n",
       "</style>\n",
       "<table border=\"1\" class=\"dataframe\">\n",
       "  <thead>\n",
       "    <tr style=\"text-align: right;\">\n",
       "      <th></th>\n",
       "      <th>gameID</th>\n",
       "      <th>gameDate</th>\n",
       "      <th>Team</th>\n",
       "      <th>Opponent</th>\n",
       "      <th>homeRoad</th>\n",
       "      <th>gamesPlayed</th>\n",
       "      <th>Win</th>\n",
       "      <th>Loss</th>\n",
       "      <th>Tie</th>\n",
       "      <th>OTLoss</th>\n",
       "      <th>points</th>\n",
       "      <th>pointPct</th>\n",
       "      <th>regulationWins</th>\n",
       "      <th>regulationAndOtWins</th>\n",
       "      <th>shootoutWins</th>\n",
       "      <th>goalsFor</th>\n",
       "      <th>goalsAgainst</th>\n",
       "      <th>goalsForPerGame</th>\n",
       "      <th>goalsAgainstPerGame</th>\n",
       "      <th>powerPlayPct</th>\n",
       "      <th>penaltyKillPct</th>\n",
       "      <th>powerPlayNetPct</th>\n",
       "      <th>penaltyKillNetPct</th>\n",
       "      <th>shotsForPerGame</th>\n",
       "      <th>shotsAgainstPerGame</th>\n",
       "      <th>faceoffWinPct</th>\n",
       "    </tr>\n",
       "  </thead>\n",
       "  <tbody>\n",
       "    <tr>\n",
       "      <th>0</th>\n",
       "      <td>2003020001</td>\n",
       "      <td>2003-10-08</td>\n",
       "      <td>New Jersey Devils</td>\n",
       "      <td>Boston Bruins</td>\n",
       "      <td>1</td>\n",
       "      <td>1</td>\n",
       "      <td>0</td>\n",
       "      <td>0</td>\n",
       "      <td>1</td>\n",
       "      <td>0</td>\n",
       "      <td>1</td>\n",
       "      <td>0.5</td>\n",
       "      <td>0</td>\n",
       "      <td>0</td>\n",
       "      <td>0</td>\n",
       "      <td>3</td>\n",
       "      <td>3</td>\n",
       "      <td>3.0</td>\n",
       "      <td>3.0</td>\n",
       "      <td>0.75</td>\n",
       "      <td>0.75</td>\n",
       "      <td>0.75</td>\n",
       "      <td>0.75</td>\n",
       "      <td>35.0</td>\n",
       "      <td>31.0</td>\n",
       "      <td>0.43</td>\n",
       "    </tr>\n",
       "    <tr>\n",
       "      <th>1</th>\n",
       "      <td>2003020003</td>\n",
       "      <td>2003-10-08</td>\n",
       "      <td>Minnesota Wild</td>\n",
       "      <td>Chicago Blackhawks</td>\n",
       "      <td>1</td>\n",
       "      <td>1</td>\n",
       "      <td>0</td>\n",
       "      <td>1</td>\n",
       "      <td>0</td>\n",
       "      <td>0</td>\n",
       "      <td>0</td>\n",
       "      <td>0.0</td>\n",
       "      <td>0</td>\n",
       "      <td>0</td>\n",
       "      <td>0</td>\n",
       "      <td>0</td>\n",
       "      <td>1</td>\n",
       "      <td>0.0</td>\n",
       "      <td>1.0</td>\n",
       "      <td>0.00</td>\n",
       "      <td>1.00</td>\n",
       "      <td>0.00</td>\n",
       "      <td>1.00</td>\n",
       "      <td>33.0</td>\n",
       "      <td>22.0</td>\n",
       "      <td>0.57</td>\n",
       "    </tr>\n",
       "    <tr>\n",
       "      <th>2</th>\n",
       "      <td>2003020002</td>\n",
       "      <td>2003-10-08</td>\n",
       "      <td>Dallas Stars</td>\n",
       "      <td>Anaheim Ducks</td>\n",
       "      <td>0</td>\n",
       "      <td>1</td>\n",
       "      <td>1</td>\n",
       "      <td>0</td>\n",
       "      <td>0</td>\n",
       "      <td>0</td>\n",
       "      <td>2</td>\n",
       "      <td>1.0</td>\n",
       "      <td>1</td>\n",
       "      <td>1</td>\n",
       "      <td>0</td>\n",
       "      <td>4</td>\n",
       "      <td>1</td>\n",
       "      <td>4.0</td>\n",
       "      <td>1.0</td>\n",
       "      <td>0.33</td>\n",
       "      <td>0.75</td>\n",
       "      <td>0.33</td>\n",
       "      <td>0.75</td>\n",
       "      <td>22.0</td>\n",
       "      <td>21.0</td>\n",
       "      <td>0.53</td>\n",
       "    </tr>\n",
       "    <tr>\n",
       "      <th>3</th>\n",
       "      <td>2003020001</td>\n",
       "      <td>2003-10-08</td>\n",
       "      <td>Boston Bruins</td>\n",
       "      <td>New Jersey Devils</td>\n",
       "      <td>0</td>\n",
       "      <td>1</td>\n",
       "      <td>0</td>\n",
       "      <td>0</td>\n",
       "      <td>1</td>\n",
       "      <td>0</td>\n",
       "      <td>1</td>\n",
       "      <td>0.5</td>\n",
       "      <td>0</td>\n",
       "      <td>0</td>\n",
       "      <td>0</td>\n",
       "      <td>3</td>\n",
       "      <td>3</td>\n",
       "      <td>3.0</td>\n",
       "      <td>3.0</td>\n",
       "      <td>0.25</td>\n",
       "      <td>0.25</td>\n",
       "      <td>0.25</td>\n",
       "      <td>0.25</td>\n",
       "      <td>31.0</td>\n",
       "      <td>35.0</td>\n",
       "      <td>0.57</td>\n",
       "    </tr>\n",
       "    <tr>\n",
       "      <th>4</th>\n",
       "      <td>2003020003</td>\n",
       "      <td>2003-10-08</td>\n",
       "      <td>Chicago Blackhawks</td>\n",
       "      <td>Minnesota Wild</td>\n",
       "      <td>0</td>\n",
       "      <td>1</td>\n",
       "      <td>1</td>\n",
       "      <td>0</td>\n",
       "      <td>0</td>\n",
       "      <td>0</td>\n",
       "      <td>2</td>\n",
       "      <td>1.0</td>\n",
       "      <td>1</td>\n",
       "      <td>1</td>\n",
       "      <td>0</td>\n",
       "      <td>1</td>\n",
       "      <td>0</td>\n",
       "      <td>1.0</td>\n",
       "      <td>0.0</td>\n",
       "      <td>0.00</td>\n",
       "      <td>1.00</td>\n",
       "      <td>0.00</td>\n",
       "      <td>1.00</td>\n",
       "      <td>22.0</td>\n",
       "      <td>33.0</td>\n",
       "      <td>0.43</td>\n",
       "    </tr>\n",
       "  </tbody>\n",
       "</table>\n",
       "</div>"
      ],
      "text/plain": [
       "       gameID    gameDate                Team            Opponent  homeRoad  \\\n",
       "0  2003020001  2003-10-08   New Jersey Devils       Boston Bruins         1   \n",
       "1  2003020003  2003-10-08      Minnesota Wild  Chicago Blackhawks         1   \n",
       "2  2003020002  2003-10-08        Dallas Stars       Anaheim Ducks         0   \n",
       "3  2003020001  2003-10-08       Boston Bruins   New Jersey Devils         0   \n",
       "4  2003020003  2003-10-08  Chicago Blackhawks      Minnesota Wild         0   \n",
       "\n",
       "   gamesPlayed  Win  Loss  Tie  OTLoss  points  pointPct  regulationWins  \\\n",
       "0            1    0     0    1       0       1       0.5               0   \n",
       "1            1    0     1    0       0       0       0.0               0   \n",
       "2            1    1     0    0       0       2       1.0               1   \n",
       "3            1    0     0    1       0       1       0.5               0   \n",
       "4            1    1     0    0       0       2       1.0               1   \n",
       "\n",
       "   regulationAndOtWins  shootoutWins  goalsFor  goalsAgainst  goalsForPerGame  \\\n",
       "0                    0             0         3             3              3.0   \n",
       "1                    0             0         0             1              0.0   \n",
       "2                    1             0         4             1              4.0   \n",
       "3                    0             0         3             3              3.0   \n",
       "4                    1             0         1             0              1.0   \n",
       "\n",
       "   goalsAgainstPerGame  powerPlayPct  penaltyKillPct  powerPlayNetPct  \\\n",
       "0                  3.0          0.75            0.75             0.75   \n",
       "1                  1.0          0.00            1.00             0.00   \n",
       "2                  1.0          0.33            0.75             0.33   \n",
       "3                  3.0          0.25            0.25             0.25   \n",
       "4                  0.0          0.00            1.00             0.00   \n",
       "\n",
       "   penaltyKillNetPct  shotsForPerGame  shotsAgainstPerGame  faceoffWinPct  \n",
       "0               0.75             35.0                 31.0           0.43  \n",
       "1               1.00             33.0                 22.0           0.57  \n",
       "2               0.75             22.0                 21.0           0.53  \n",
       "3               0.25             31.0                 35.0           0.57  \n",
       "4               1.00             22.0                 33.0           0.43  "
      ]
     },
     "execution_count": 11,
     "metadata": {},
     "output_type": "execute_result"
    }
   ],
   "source": [
    "df = pd.read_csv(\n",
    "    \"/home/artemiy/rink_master/rink_master_data/rink_master_47816_wteams.csv\",\n",
    "    index_col=False,\n",
    ")\n",
    "df.head()"
   ]
  },
  {
   "cell_type": "code",
   "execution_count": 12,
   "metadata": {},
   "outputs": [],
   "source": [
    "pd.set_option(\"display.max_columns\", None)"
   ]
  },
  {
   "cell_type": "code",
   "execution_count": 13,
   "metadata": {},
   "outputs": [],
   "source": [
    "df[\"gameDate\"] = pd.to_datetime(df[\"gameDate\"])"
   ]
  },
  {
   "cell_type": "code",
   "execution_count": 14,
   "metadata": {},
   "outputs": [
    {
     "name": "stdout",
     "output_type": "stream",
     "text": [
      "<class 'pandas.core.frame.DataFrame'>\n",
      "RangeIndex: 47816 entries, 0 to 47815\n",
      "Data columns (total 26 columns):\n",
      " #   Column               Non-Null Count  Dtype         \n",
      "---  ------               --------------  -----         \n",
      " 0   gameID               47816 non-null  int64         \n",
      " 1   gameDate             47816 non-null  datetime64[ns]\n",
      " 2   Team                 47816 non-null  object        \n",
      " 3   Opponent             47816 non-null  object        \n",
      " 4   homeRoad             47816 non-null  int64         \n",
      " 5   gamesPlayed          47816 non-null  int64         \n",
      " 6   Win                  47816 non-null  int64         \n",
      " 7   Loss                 47816 non-null  int64         \n",
      " 8   Tie                  47816 non-null  int64         \n",
      " 9   OTLoss               47816 non-null  int64         \n",
      " 10  points               47816 non-null  int64         \n",
      " 11  pointPct             47816 non-null  float64       \n",
      " 12  regulationWins       47816 non-null  int64         \n",
      " 13  regulationAndOtWins  47816 non-null  int64         \n",
      " 14  shootoutWins         47816 non-null  int64         \n",
      " 15  goalsFor             47816 non-null  int64         \n",
      " 16  goalsAgainst         47816 non-null  int64         \n",
      " 17  goalsForPerGame      47816 non-null  float64       \n",
      " 18  goalsAgainstPerGame  47816 non-null  float64       \n",
      " 19  powerPlayPct         47816 non-null  float64       \n",
      " 20  penaltyKillPct       47816 non-null  float64       \n",
      " 21  powerPlayNetPct      47816 non-null  float64       \n",
      " 22  penaltyKillNetPct    47816 non-null  float64       \n",
      " 23  shotsForPerGame      47816 non-null  float64       \n",
      " 24  shotsAgainstPerGame  47816 non-null  float64       \n",
      " 25  faceoffWinPct        47816 non-null  float64       \n",
      "dtypes: datetime64[ns](1), float64(10), int64(13), object(2)\n",
      "memory usage: 9.5+ MB\n"
     ]
    }
   ],
   "source": [
    "df.info()"
   ]
  },
  {
   "cell_type": "code",
   "execution_count": 15,
   "metadata": {},
   "outputs": [],
   "source": [
    "encoder = OneHotEncoder()\n",
    "encoded_teams = encoder.fit_transform(df[[\"Team\", \"Opponent\"]]).toarray()\n",
    "feature_names = encoder.get_feature_names_out([\"Team\", \"Opponent\"])\n",
    "encoded_teams_df = pd.DataFrame(encoded_teams, columns=feature_names)"
   ]
  },
  {
   "cell_type": "code",
   "execution_count": 16,
   "metadata": {},
   "outputs": [],
   "source": [
    "df = pd.concat([df, encoded_teams_df], axis=1)\n",
    "df.drop([\"Team\", \"Opponent\"], axis=1, inplace=True)"
   ]
  },
  {
   "cell_type": "code",
   "execution_count": 17,
   "metadata": {},
   "outputs": [],
   "source": [
    "# Обработка результатов игры\n",
    "df[\"Result\"] = df.apply(\n",
    "    lambda row: \"Win\" if row[\"Win\"] == 1 else (\"Tie\" if row[\"Tie\"] == 1 else \"Loss\"),\n",
    "    axis=1,\n",
    ")\n",
    "df[\"Result\"] = df[\"Result\"].map({\"Win\": 1, \"Loss\": 0, \"Tie\": 0})"
   ]
  },
  {
   "cell_type": "code",
   "execution_count": 18,
   "metadata": {},
   "outputs": [],
   "source": [
    "train = df[df[\"gameDate\"] < \"2023-10-10\"]\n",
    "test = df[df[\"gameDate\"] >= \"2023-10-10\"]"
   ]
  },
  {
   "cell_type": "code",
   "execution_count": 19,
   "metadata": {},
   "outputs": [
    {
     "name": "stdout",
     "output_type": "stream",
     "text": [
      "Result\n",
      "0    22766\n",
      "1    22426\n",
      "Name: count, dtype: int64\n",
      "Result\n",
      "0    1312\n",
      "1    1312\n",
      "Name: count, dtype: int64\n"
     ]
    }
   ],
   "source": [
    "print(train[\"Result\"].value_counts())\n",
    "print(test[\"Result\"].value_counts())"
   ]
  },
  {
   "cell_type": "code",
   "execution_count": 20,
   "metadata": {},
   "outputs": [
    {
     "name": "stdout",
     "output_type": "stream",
     "text": [
      "Точность предсказаний (Logistic Regression): 50.00%\n"
     ]
    }
   ],
   "source": [
    "from sklearn.linear_model import LogisticRegression\n",
    "from sklearn.metrics import accuracy_score\n",
    "\n",
    "lr = LogisticRegression(max_iter=1000, random_state=1)\n",
    "lr.fit(train.drop(columns=[\"Result\", \"gameDate\"]), train[\"Result\"])\n",
    "preds_lr = lr.predict(test.drop(columns=[\"Result\", \"gameDate\"]))\n",
    "accuracy_lr = accuracy_score(test[\"Result\"], preds_lr)\n",
    "print(f\"Точность предсказаний (Logistic Regression): {accuracy_lr * 100:.2f}%\")"
   ]
  },
  {
   "cell_type": "code",
   "execution_count": 21,
   "metadata": {},
   "outputs": [
    {
     "name": "stdout",
     "output_type": "stream",
     "text": [
      "Точность предсказаний (Random Forest): 100.00%\n"
     ]
    }
   ],
   "source": [
    "from sklearn.ensemble import RandomForestClassifier\n",
    "\n",
    "rf = RandomForestClassifier(n_estimators=100, random_state=1, min_samples_split=10)\n",
    "rf.fit(train.drop(columns=[\"Result\", \"gameDate\"]), train[\"Result\"])\n",
    "preds_rf = rf.predict(test.drop(columns=[\"Result\", \"gameDate\"]))\n",
    "accuracy_rf = accuracy_score(test[\"Result\"], preds_rf)\n",
    "print(f\"Точность предсказаний (Random Forest): {accuracy_rf * 100:.2f}%\")"
   ]
  },
  {
   "cell_type": "code",
   "execution_count": 22,
   "metadata": {},
   "outputs": [
    {
     "name": "stdout",
     "output_type": "stream",
     "text": [
      "Лучшие параметры: {'max_depth': None, 'min_samples_split': 2, 'n_estimators': 100}\n",
      "Точность предсказаний (Grid Search RF): 100.00%\n"
     ]
    }
   ],
   "source": [
    "from sklearn.model_selection import GridSearchCV\n",
    "\n",
    "param_grid = {\n",
    "    \"n_estimators\": [100, 200],\n",
    "    \"max_depth\": [None, 10, 20],\n",
    "    \"min_samples_split\": [2, 5, 10],\n",
    "}\n",
    "\n",
    "grid_rf = GridSearchCV(\n",
    "    RandomForestClassifier(random_state=1), param_grid, cv=5, scoring=\"accuracy\"\n",
    ")\n",
    "grid_rf.fit(train.drop(columns=[\"Result\", \"gameDate\"]), train[\"Result\"])\n",
    "print(f\"Лучшие параметры: {grid_rf.best_params_}\")\n",
    "preds_grid_rf = grid_rf.predict(test.drop(columns=[\"Result\", \"gameDate\"]))\n",
    "accuracy_grid_rf = accuracy_score(test[\"Result\"], preds_grid_rf)\n",
    "print(f\"Точность предсказаний (Grid Search RF): {accuracy_grid_rf * 100:.2f}%\")"
   ]
  }
 ],
 "metadata": {
  "kernelspec": {
   "display_name": ".rink_master",
   "language": "python",
   "name": "python3"
  },
  "language_info": {
   "codemirror_mode": {
    "name": "ipython",
    "version": 3
   },
   "file_extension": ".py",
   "mimetype": "text/x-python",
   "name": "python",
   "nbconvert_exporter": "python",
   "pygments_lexer": "ipython3",
   "version": "3.11.9"
  }
 },
 "nbformat": 4,
 "nbformat_minor": 2
}
